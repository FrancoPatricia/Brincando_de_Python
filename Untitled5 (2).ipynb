{
  "nbformat": 4,
  "nbformat_minor": 0,
  "metadata": {
    "colab": {
      "name": "Untitled5.ipynb",
      "provenance": []
    },
    "kernelspec": {
      "name": "python3",
      "display_name": "Python 3"
    }
  },
  "cells": [
    {
      "cell_type": "code",
      "metadata": {
        "id": "Va2ZmLCffe8P",
        "colab_type": "code",
        "colab": {}
      },
      "source": [
        "x1 = int(input(\"Quanto você ganha por hora?\" ))\n",
        "x2 = int(input(\"Quantas horas você trabalha no mês?\" ))\n",
        "print(\"Você ganha R$\", (x1*x2))"
      ],
      "execution_count": null,
      "outputs": []
    },
    {
      "cell_type": "code",
      "metadata": {
        "id": "tvHDLF_Tfh-g",
        "colab_type": "code",
        "colab": {}
      },
      "source": [
        "x1 = int(input(\"Digite um número\" ))\n",
        "print(\"Você digitou o número\", (x1))"
      ],
      "execution_count": null,
      "outputs": []
    },
    {
      "cell_type": "code",
      "metadata": {
        "id": "Z3QzHUaJf2Fb",
        "colab_type": "code",
        "colab": {}
      },
      "source": [
        "x = \"Ola Mundo\"\n",
        "print(x)"
      ],
      "execution_count": null,
      "outputs": []
    },
    {
      "cell_type": "code",
      "metadata": {
        "id": "VSuYn_R1gCjF",
        "colab_type": "code",
        "colab": {}
      },
      "source": [
        "a = int(input(\"Digite um número \" ))\n",
        "b = int(input(\"Digite outro número \" ))\n",
        "print(\"A soma dos números é\", (a+b))"
      ],
      "execution_count": null,
      "outputs": []
    },
    {
      "cell_type": "code",
      "metadata": {
        "id": "pkmk0XPSgVUL",
        "colab_type": "code",
        "colab": {}
      },
      "source": [
        "a = int(input(\"Qual a nota do 1º bimestre? \"))\n",
        "b = int(input(\"Qual a nota do 2º bimestre? \"))\n",
        "c = int(input(\"Qual a nota do 3º bimestre? \"))\n",
        "d = int(input(\"Qual a nota do 4º bimestre? \"))\n",
        "print(\"Sua média é\", ((a+b+c+d)/4))"
      ],
      "execution_count": null,
      "outputs": []
    },
    {
      "cell_type": "code",
      "metadata": {
        "id": "wfn8uXuSyspv",
        "colab_type": "code",
        "colab": {}
      },
      "source": [
        "F = int(input(\"Quantos graus Farenheit está? \"))\n",
        "print(\"Em Celsius é\",  (5 * ((F-32) / 9)))"
      ],
      "execution_count": null,
      "outputs": []
    },
    {
      "cell_type": "code",
      "metadata": {
        "id": "NrbwEf-x124n",
        "colab_type": "code",
        "colab": {}
      },
      "source": [
        "altura = float(input(\"Qual sua altura em metros? \"))\n",
        "print(\"Seu peso ideal é\", ((72.7*altura) - 58))"
      ],
      "execution_count": null,
      "outputs": []
    },
    {
      "cell_type": "code",
      "metadata": {
        "id": "0nuBvA-53R-S",
        "colab_type": "code",
        "colab": {}
      },
      "source": [
        "altura = float(input(\"Qual sua altura em metros? \"))\n",
        "sexo = input(\"Você é homem ou mulher? \")\n",
        "if sexo == \"mulher\":\n",
        "  print(\"Seu peso ideal é\", ((62.1*altura) - 44.7))\n",
        "else:\n",
        "  print(\"Seu peso ideal é\", ((72.7*altura) - 58))  "
      ],
      "execution_count": null,
      "outputs": []
    },
    {
      "cell_type": "code",
      "metadata": {
        "id": "8GrZZAm14umg",
        "colab_type": "code",
        "colab": {}
      },
      "source": [
        ""
      ],
      "execution_count": null,
      "outputs": []
    }
  ]
}